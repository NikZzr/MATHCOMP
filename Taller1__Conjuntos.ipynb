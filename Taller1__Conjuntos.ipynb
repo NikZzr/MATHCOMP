{
  "nbformat": 4,
  "nbformat_minor": 0,
  "metadata": {
    "colab": {
      "provenance": []
    },
    "kernelspec": {
      "name": "python3",
      "display_name": "Python 3"
    },
    "language_info": {
      "name": "python"
    }
  },
  "cells": [
    {
      "cell_type": "markdown",
      "source": [
        "#Teoria de conjuntos\n"
      ],
      "metadata": {
        "id": "-Vh_Me6vdfHM"
      }
    },
    {
      "cell_type": "markdown",
      "source": [],
      "metadata": {
        "id": "8aK175Owd9sk"
      }
    },
    {
      "cell_type": "code",
      "execution_count": null,
      "metadata": {
        "id": "G43_5msDcW4G"
      },
      "outputs": [],
      "source": []
    }
  ]
}